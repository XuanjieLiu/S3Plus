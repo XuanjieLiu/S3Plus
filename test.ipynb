{
 "cells": [
  {
   "cell_type": "code",
   "id": "initial_id",
   "metadata": {
    "collapsed": true,
    "ExecuteTime": {
     "end_time": "2025-07-31T03:43:25.330505Z",
     "start_time": "2025-07-31T03:43:25.299295Z"
    }
   },
   "source": [
    "import torch\n",
    "\n",
    "random_tensor = torch.rand(3, 4, 5)\n",
    "print(random_tensor)\n",
    "\n",
    "random_tensor_1 = random_tensor[..., 5:]\n",
    "print(random_tensor_1)"
   ],
   "outputs": [
    {
     "name": "stdout",
     "output_type": "stream",
     "text": [
      "tensor([[[0.5721, 0.6945, 0.6303, 0.4322, 0.3055],\n",
      "         [0.8865, 0.8087, 0.8761, 0.2036, 0.4115],\n",
      "         [0.7373, 0.4493, 0.3050, 0.0201, 0.0969],\n",
      "         [0.0066, 0.7773, 0.1694, 0.3831, 0.9345]],\n",
      "\n",
      "        [[0.6780, 0.7037, 0.2489, 0.1060, 0.1284],\n",
      "         [0.4990, 0.5027, 0.2369, 0.6365, 0.1009],\n",
      "         [0.0625, 0.4943, 0.3572, 0.8497, 0.2128],\n",
      "         [0.3939, 0.2720, 0.4134, 0.6265, 0.9013]],\n",
      "\n",
      "        [[0.5967, 0.4332, 0.7916, 0.3532, 0.0304],\n",
      "         [0.2857, 0.1348, 0.7691, 0.2638, 0.6540],\n",
      "         [0.3080, 0.4989, 0.1328, 0.4648, 0.9381],\n",
      "         [0.6595, 0.2023, 0.1806, 0.6925, 0.6799]]])\n",
      "tensor([], size=(3, 4, 0))\n"
     ]
    }
   ],
   "execution_count": 4
  },
  {
   "metadata": {
    "ExecuteTime": {
     "end_time": "2025-08-03T03:23:50.817531Z",
     "start_time": "2025-08-03T03:23:50.804060Z"
    }
   },
   "cell_type": "code",
   "source": [
    "from collections import deque\n",
    "\n",
    "def compute_signal_strengths(input_string: str) -> str:\n",
    "    \"\"\"\n",
    "    Given a level-order string representation of a hierarchical network\n",
    "    ('1' = engineer node, '0' = null), compute the minimum signal strength\n",
    "    (eccentricity) for each engineer in level-order.\n",
    "    \"\"\"\n",
    "    n = len(input_string)\n",
    "    # Build adjacency list for engineer nodes\n",
    "    adj = {i: [] for i, c in enumerate(input_string) if c == '1'}\n",
    "    for i, c in enumerate(input_string):\n",
    "        if c != '1':\n",
    "            continue\n",
    "        for j in (2 * i + 1, 2 * i + 2):\n",
    "            if j < n and input_string[j] == '1':\n",
    "                adj[i].append(j)\n",
    "                adj[j].append(i)\n",
    "\n",
    "    def bfs(start: int) -> dict:\n",
    "        \"\"\"Return distance map from start to all reachable engineer nodes.\"\"\"\n",
    "        dist = {i: -1 for i in adj}\n",
    "        dist[start] = 0\n",
    "        queue = deque([start])\n",
    "        while queue:\n",
    "            u = queue.popleft()\n",
    "            for v in adj[u]:\n",
    "                if dist[v] == -1:\n",
    "                    dist[v] = dist[u] + 1\n",
    "                    queue.append(v)\n",
    "        return dist\n",
    "\n",
    "    # List of engineer indices in level-order\n",
    "    engineers = [i for i, c in enumerate(input_string) if c == '1']\n",
    "    if not engineers:\n",
    "        return \"\"\n",
    "\n",
    "    # 1) BFS from an arbitrary engineer to find one end 'a' of the tree diameter\n",
    "    start = engineers[0]\n",
    "    dist0 = bfs(start)\n",
    "    a = max(engineers, key=lambda x: dist0[x])\n",
    "\n",
    "    # 2) BFS from 'a' to get distA and find the other end 'b'\n",
    "    distA = bfs(a)\n",
    "    b = max(engineers, key=lambda x: distA[x])\n",
    "\n",
    "    # 3) BFS from 'b' to get distB\n",
    "    distB = bfs(b)\n",
    "\n",
    "    # Eccentricity for each engineer = max(distA[i], distB[i])\n",
    "    ecc = [str(max(distA[i], distB[i])) for i in engineers]\n",
    "    return \"\".join(ecc)\n",
    "\n",
    "if __name__ == \"__main__\":\n",
    "    print(compute_signal_strengths(\"1111111\"))\n"
   ],
   "id": "c62c30c3417f741d",
   "outputs": [
    {
     "name": "stdout",
     "output_type": "stream",
     "text": [
      "2334444\n"
     ]
    }
   ],
   "execution_count": 2
  }
 ],
 "metadata": {
  "kernelspec": {
   "display_name": "Python 3",
   "language": "python",
   "name": "python3"
  },
  "language_info": {
   "codemirror_mode": {
    "name": "ipython",
    "version": 2
   },
   "file_extension": ".py",
   "mimetype": "text/x-python",
   "name": "python",
   "nbconvert_exporter": "python",
   "pygments_lexer": "ipython2",
   "version": "2.7.6"
  }
 },
 "nbformat": 4,
 "nbformat_minor": 5
}
