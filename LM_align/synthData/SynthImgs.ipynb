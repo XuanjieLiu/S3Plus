{
 "cells": [
  {
   "cell_type": "markdown",
   "metadata": {},
   "source": [
    "# Functions"
   ]
  },
  {
   "cell_type": "code",
   "execution_count": null,
   "metadata": {},
   "source": [
    "from LM_align.synthData.SynthCommon import *"
   ],
   "outputs": []
  },
  {
   "cell_type": "markdown",
   "metadata": {},
   "source": [
    "# Generate Dataset"
   ]
  },
  {
   "cell_type": "code",
   "execution_count": null,
   "metadata": {},
   "source": [
    "# 预生成数据\n",
    "output_dir = 'pre_generated_data'  # 生成数据的目录\n",
    "num_samples = 500  # 根据需要调整样本数量\n",
    "skipped = pre_generate_dataset(num_samples, output_dir,\n",
    "                               canvas_size=(256, 256),\n",
    "                               min_size=20, max_size=40,\n",
    "                               max_attempts=1000, max_retry=5)"
   ],
   "outputs": []
  },
  {
   "cell_type": "markdown",
   "metadata": {},
   "source": [
    "# Load data and test"
   ]
  },
  {
   "cell_type": "code",
   "execution_count": 59,
   "metadata": {},
   "source": [
    "# 构建 Dataset 与 DataLoader\n",
    "transform = transforms.ToTensor()\n",
    "dataset = PreGeneratedDataset(output_dir, transform=transform)\n",
    "dataloader = DataLoader(dataset, batch_size=3, shuffle=True)\n",
    "\n",
    "# 测试读取一个 batch，并显示 sample 的 image_c\n",
    "batch = next(iter(dataloader))\n",
    "print(batch.keys())\n",
    "sample_img = batch[\"image_c\"][0].permute(1, 2, 0).numpy()\n",
    "plt.imshow(sample_img)\n",
    "label = batch[\"label\"][\"obj\"][0]\n",
    "plt.title(f\"Label: {label}\")\n",
    "plt.axis(\"off\")\n",
    "plt.show()"
   ],
   "outputs": []
  },
  {
   "cell_type": "code",
   "execution_count": 39,
   "metadata": {},
   "source": [
    "def draw_emoji(emoji_name, font_size=72):\n",
    "    # 尝试完整路径\n",
    "    font_path = \"C:/Windows/Fonts/seguiemj.ttf\"  # 或 seguiemoji.ttf\n",
    "    emoji_char = EMOJI_MAP[emoji_name]\n",
    "\n",
    "    image = Image.new(\"RGB\", (200, 200), (255, 255, 255))\n",
    "    draw = ImageDraw.Draw(image)\n",
    "\n",
    "    try:\n",
    "        emoji_font = ImageFont.truetype(font_path, font_size)\n",
    "    except Exception as e:\n",
    "        print(\"Load emoji font failed:\", e)\n",
    "        emoji_font = ImageFont.load_default()\n",
    "\n",
    "    # 在(50, 50)绘制\n",
    "    \n",
    "    # draw.text((50, 50), emoji_char, font=emoji_font, fill=\"black\")\n",
    "    draw_object(draw, emoji_name, (50, 50, 100, 100))\n",
    "    display(image) \n",
    "\n",
    "\n",
    "draw_emoji(\"apple\")"
   ],
   "outputs": []
  },
  {
   "cell_type": "code",
   "execution_count": 41,
   "metadata": {},
   "source": [
    "boxes = generate_non_overlapping_boxes(20, (200, 200), 20, 50)\n",
    "img = draw_objects_on_image(\"apple\", boxes, (200, 200))\n",
    "display(img)"
   ],
   "outputs": []
  },
  {
   "cell_type": "markdown",
   "metadata": {},
   "source": [
    "# Addition data distribution visualization"
   ]
  },
  {
   "cell_type": "code",
   "execution_count": null,
   "metadata": {},
   "source": [
    "import numpy as np\n",
    "# 生成示例数据\n",
    "np.random.seed(42)  # 固定随机种子\n",
    "X = np.random.randint(1, 5, 1000)\n",
    "Y = np.random.randint(1, 5, 1000)\n",
    "plot_hist(X, Y)"
   ],
   "outputs": []
  },
  {
   "cell_type": "markdown",
   "metadata": {},
   "source": [
    "# Shared-box data synth"
   ]
  },
  {
   "cell_type": "code",
   "execution_count": 11,
   "metadata": {},
   "source": [
    "import numpy as np\n",
    "import random\n",
    "from tqdm import tqdm\n",
    "\n",
    "def gen_one_data_from_boxes_seq(boxes, a, b, obj_label, canvas_size):\n",
    "    c = a + b\n",
    "    n_idx = np.array(list(range(len(boxes))))\n",
    "    a_idx = random.sample(list(n_idx), a)\n",
    "    b_idx = random.sample(list(n_idx), b)\n",
    "    c_idx = random.sample(list(n_idx), c)\n",
    "    boxes_a = [boxes[i] for i in a_idx]\n",
    "    boxes_b = [boxes[i] for i in b_idx]\n",
    "    boxes_c = [boxes[i] for i in c_idx]\n",
    "\n",
    "    image_a = draw_objects_on_image(obj_label, boxes_a, canvas_size)\n",
    "    image_b = draw_objects_on_image(obj_label, boxes_b, canvas_size)\n",
    "    image_c = draw_objects_on_image(obj_label, boxes_c, canvas_size)\n",
    "    label = {\"obj\": obj_label, \"a\": a, \"b\": b, \"c\": c}\n",
    "    return image_a, image_b, image_c, label\n",
    "\n",
    "\n",
    "# ----------------------------\n",
    "# 数据预生成函数：保存数据到本地\n",
    "# ----------------------------\n",
    "def pre_generate_oneSeqBox_dataset(num_samples, box_seq, output_dir, canvas_size=(224, 224), is_plot_hist=True):\n",
    "    \"\"\"\n",
    "    预生成 num_samples 个数据点并保存到 output_dir 目录下。\n",
    "    每个数据点保存在单独的文件夹中，包含 image_a.png, image_b.png, image_c.png 以及 label.json。\n",
    "    如果某个数据点生成失败（如无法生成足够的 boxes），则跳过，并记录下来。\n",
    "    \"\"\"\n",
    "    num_box = len(box_seq)\n",
    "    os.makedirs(output_dir, exist_ok=True)\n",
    "    generated = 0\n",
    "    sample_index = 0\n",
    "    seq_a = []\n",
    "    seq_b = []\n",
    "    for i in tqdm(range(num_samples)):\n",
    "        obj_label = random.choice(OBJ_LIST)\n",
    "        a = random.randint(1, 5)\n",
    "        b = random.randint(1, 5)\n",
    "        seq_a.append(a)\n",
    "        seq_b.append(b)\n",
    "        assert a + b <= num_box, f\"Error: a + b = {a} + {b} = {a+b} > num_box = {num_box}\"\n",
    "        datapoint = gen_one_data_from_boxes_seq(box_seq, a, b, obj_label, canvas_size)\n",
    "        image_a, image_b, image_c, label = datapoint\n",
    "        # 保存到 sample_{index:04d} 文件夹下\n",
    "        sample_dir = os.path.join(output_dir, f\"sample_{sample_index:04d}\")\n",
    "        os.makedirs(sample_dir, exist_ok=True)\n",
    "        image_a.save(os.path.join(sample_dir, \"image_a.png\"))\n",
    "        image_b.save(os.path.join(sample_dir, \"image_b.png\"))\n",
    "        image_c.save(os.path.join(sample_dir, \"image_c.png\"))\n",
    "        # 保存 label 为 JSON 格式\n",
    "        with open(os.path.join(sample_dir, \"label.json\"), \"w\", encoding=\"utf-8\") as f:\n",
    "            json.dump(label, f, ensure_ascii=False, indent=2)\n",
    "        # print(f\"Saved sample {sample_index}: {label}\")\n",
    "        generated += 1\n",
    "        sample_index += 1\n",
    "\n",
    "    print(f\"Pre-generation complete. Generated {generated} samples.\")\n",
    "    if is_plot_hist:\n",
    "        plot_hist(seq_a, seq_b)\n",
    "\n",
    "\n"
   ],
   "outputs": []
  },
  {
   "cell_type": "code",
   "execution_count": 12,
   "metadata": {},
   "source": [
    "num_samples_train = 2048 # 根据需要调整样本数量\n",
    "num_samples_val = 256\n",
    "output_dir_train = \"pre_generated_data_sharedBoxes_train\"\n",
    "output_dir_val = \"pre_generated_data_sharedBoxes_val\"\n",
    "num_box = 12\n",
    "canvas_size = (224, 224)\n",
    "min_size = 20\n",
    "max_size = 40\n",
    "\n",
    "box_seq = generate_non_overlapping_boxes(num_box, canvas_size, min_size, max_size, max_attempts=1000, max_retry=5)\n",
    "pre_generate_oneSeqBox_dataset(num_samples_train, box_seq, output_dir_train, canvas_size=canvas_size)\n",
    "pre_generate_oneSeqBox_dataset(num_samples_val, box_seq, output_dir_val, canvas_size=canvas_size, is_plot_hist=False)"
   ],
   "outputs": []
  },
  {
   "cell_type": "markdown",
   "metadata": {},
   "source": [
    "# Recurrent Blindfold Synth"
   ]
  },
  {
   "cell_type": "code",
   "execution_count": null,
   "metadata": {},
   "source": [
    "data = gen_recurrent_data(128)\n",
    "print(data[0])\n",
    "seq_a = [d[3][\"a\"] for d in data]\n",
    "seq_b = [d[3][\"b\"] for d in data]\n",
    "plot_hist(seq_a, seq_b)"
   ],
   "outputs": []
  },
  {
   "cell_type": "code",
   "execution_count": 5,
   "metadata": {},
   "source": [
    "a = [1, 2, 3, 4, 5]\n",
    "b = [2,3,1,0,0,0,0,0,0]\n",
    "\n",
    "import numpy as np\n",
    "a = np.array(a)\n",
    "b = np.array(b)\n",
    "\n",
    "a[b]\n"
   ],
   "outputs": []
  }
 ],
 "metadata": {
  "kernelspec": {
   "display_name": "venv",
   "language": "python",
   "name": "python3"
  },
  "language_info": {
   "codemirror_mode": {
    "name": "ipython",
    "version": 3
   },
   "file_extension": ".py",
   "mimetype": "text/x-python",
   "name": "python",
   "nbconvert_exporter": "python",
   "pygments_lexer": "ipython3",
   "version": "3.10.11"
  }
 },
 "nbformat": 4,
 "nbformat_minor": 2
}
