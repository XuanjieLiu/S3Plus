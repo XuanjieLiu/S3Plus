{
 "cells": [
  {
   "cell_type": "code",
   "execution_count": 3,
   "id": "e2d14a51",
   "metadata": {},
   "outputs": [],
   "source": [
    "import os\n",
    "import csv\n",
    "import yaml\n",
    "from tqdm import tqdm\n",
    "from pathlib import Path\n",
    "from importlib import import_module\n",
    "\n",
    "import numpy as np\n",
    "import torch\n",
    "import torch.nn as nn\n",
    "import torch.nn.functional as F\n",
    "import torch.optim as optim\n",
    "from torch.cuda.amp import GradScaler\n",
    "import librosa as lr\n",
    "from soundfile import write\n",
    "from matplotlib import pyplot as plt\n",
    "import seaborn as sns\n",
    "import wandb\n",
    "\n",
    "from utils.training_utils import *\n",
    "from utils.eval_utils import *\n",
    "from tester import Tester"
   ]
  },
  {
   "cell_type": "code",
   "execution_count": 2,
   "id": "eee80e3a",
   "metadata": {},
   "outputs": [],
   "source": [
    "class TesterInduced(Tester):\n",
    "    def __init__(self, config):\n",
    "        super(TesterInduced, self).__init__(config)\n",
    "\n",
    "    def prepare_data(self):\n",
    "        \"\"\"\n",
    "        Load the data.\n",
    "        \"\"\"\n",
    "        config = self.config\n",
    "        dataloader_module = import_module(\"dataloader.\" + config[\"dataloader\"])\n",
    "\n",
    "        self.S_LIST = dataloader_module.S_LIST\n",
    "        self.C_LIST = dataloader_module.C_LIST\n",
    "\n",
    "        self.data_dir = config[\"data_dir\"]\n",
    "\n",
    "        self.test_loader = dataloader_module.get_dataloader(\n",
    "            data_dir=os.path.join(self.data_dir),\n",
    "            batch_size=config[\"batch_size\"],\n",
    "            num_workers=config[\"num_workers\"],\n",
    "            test=True,\n",
    "        )\n",
    "        print(len(self.test_loader), \"test batches loaded\")\n",
    "\n",
    "        self.inducement_loader = dataloader_module.get_dataloader(\n",
    "            batch_size=config[\"batch_size\"],\n",
    "            n_segments=6,\n",
    "            num_workers=config[\"num_workers\"],\n",
    "            data_type=config[\"data_type\"],\n",
    "            mode=config[\"inducement\"],\n",
    "        )\n"
   ]
  },
  {
   "cell_type": "code",
   "execution_count": null,
   "id": "123cafd2",
   "metadata": {},
   "outputs": [],
   "source": [
    "with open(\"config_induced.yaml\", \"r\") as f:\n",
    "\n",
    "tester = TesterInduced(config)"
   ]
  }
 ],
 "metadata": {
  "kernelspec": {
   "display_name": "base",
   "language": "python",
   "name": "python3"
  },
  "language_info": {
   "codemirror_mode": {
    "name": "ipython",
    "version": 3
   },
   "file_extension": ".py",
   "mimetype": "text/x-python",
   "name": "python",
   "nbconvert_exporter": "python",
   "pygments_lexer": "ipython3",
   "version": "3.11.13"
  }
 },
 "nbformat": 4,
 "nbformat_minor": 5
}
